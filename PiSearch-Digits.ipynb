{
 "cells": [
  {
   "cell_type": "code",
   "execution_count": 1,
   "metadata": {},
   "outputs": [
    {
     "name": "stdout",
     "output_type": "stream",
     "text": [
      "Not found:  2775000\n",
      "Found at: 2789568\n"
     ]
    }
   ],
   "source": [
    "from concurrent.futures import ThreadPoolExecutor as PoolExecutor\n",
    "import grequests\n",
    "from IPython.display import clear_output\n",
    "s=\"\"\n",
    "st=\"8146974\"\n",
    "def get_it(url):\n",
    "    p=\"\"\n",
    "    rs = (grequests.get(u) for u in url)\n",
    "    for i in grequests.map(rs):\n",
    "        p=p+str(i.json()['content'])\n",
    "    return p\n",
    "    \n",
    "start=0\n",
    "upper=100000000\n",
    "l=0\n",
    "\n",
    "urls = [\"http://api.pi.delivery/v1/pi?start=\"+str(x)+\"&numberOfDigits=1000\" for x in range(start,upper,1000)]\n",
    "n=15\n",
    "final = [urls[i * n:(i + 1) * n] for i in range((len(urls) + n - 1) // n )]  \n",
    "with PoolExecutor(max_workers=8) as executor:\n",
    "    for _ in executor.map(get_it, final):\n",
    "        s=s+_\n",
    "        p=len(s)\n",
    "        if st in s:\n",
    "            print(\"Found at:\",s.find(st)+l)\n",
    "            executor.shutdown(wait=False)\n",
    "            break\n",
    "        elif len(s)>100000:\n",
    "            l=l+p\n",
    "            s=\"\"\n",
    "        elif len(s)>=upper+start:\n",
    "            print(\"not found at all\")\n",
    "        else:\n",
    "            clear_output(wait=True)\n",
    "            print(\"Not found: \",start+p+l) "
   ]
  },
  {
   "cell_type": "code",
   "execution_count": null,
   "metadata": {},
   "outputs": [],
   "source": []
  }
 ],
 "metadata": {
  "kernelspec": {
   "display_name": "Python 3",
   "language": "python",
   "name": "python3"
  },
  "language_info": {
   "codemirror_mode": {
    "name": "ipython",
    "version": 3
   },
   "file_extension": ".py",
   "mimetype": "text/x-python",
   "name": "python",
   "nbconvert_exporter": "python",
   "pygments_lexer": "ipython3",
   "version": "3.7.5"
  }
 },
 "nbformat": 4,
 "nbformat_minor": 4
}
